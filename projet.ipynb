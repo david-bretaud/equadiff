{
 "metadata": {
  "language_info": {
   "codemirror_mode": {
    "name": "ipython",
    "version": 3
   },
   "file_extension": ".py",
   "mimetype": "text/x-python",
   "name": "python",
   "nbconvert_exporter": "python",
   "pygments_lexer": "ipython3",
   "version": "3.8.3-final"
  },
  "orig_nbformat": 2,
  "kernelspec": {
   "name": "python3",
   "display_name": "Python 3"
  }
 },
 "nbformat": 4,
 "nbformat_minor": 2,
 "cells": [
  {
   "source": [
    "# Projet Numérique n°2 : Equations Différentielles\n",
    "\n",
    "## BRETAUD David , DELMAS Louis"
   ],
   "cell_type": "markdown",
   "metadata": {}
  },
  {
   "source": [
    "Système d'étude : en notant $x_1$ le nombre de proies et $x_2$ le nombre de prédateurs (tous les deux positifs), on a l'évolution suivante :\n",
    "$$\n",
    "\\left\\{\\begin{matrix}\n",
    " \\dot{x_1} = x_1(\\alpha - \\beta x_2)\\\\ \n",
    " \\dot{x_2} = -x_2(\\gamma - \\delta x_1)\n",
    "\\end{matrix}\\right.\n",
    "$$\n",
    "où les 4 paramètres $\\alpha$, $\\beta$, $\\gamma$ et $\\delta$ sont strictements positifs."
   ],
   "cell_type": "markdown",
   "metadata": {}
  },
  {
   "source": [
    "---\n",
    "\n",
    "### Question 1\n",
    "\n",
    "La population des proies a deux processus d'évolution : \n",
    "- le processus de natalité, qui augmente la population (variation positive), et est proportionnel au nombre actuel de cette population (plus on a de géniteurs, plus on a de nouveaux nés). Ce serait le terme en $\\alpha x_1$ .\n",
    "- le processus de mort, qui diminue la population (variation négative). Il faut prendre en compte la mort naturelle, et la mort par prédation : plus il y a de proies, plus on a un nombre susceptible de morts important, et plus il y a de prédateurs, plus les proies sont susceptibles de mourir, d'où un terme proportionnel en $x_1*x_2$, à savoir le terme $-\\beta x_1x_2$.\n",
    "\n",
    "Concernant la population des prédateurs, les deux processus sont :\n",
    "- le processus de mortalité par mort naturelle, soit le terme en $-x_2\\gamma$.\n",
    "- le processus de natalité. Etant une population de prédateurs, plus il y aura de proies à chasser, plus elle pourra se multiplier, et à l'inverse, moins il y a de proies, moins il y a de nourriture donc naturellement, par pression naturelle, il y aura moins d'enfantement, d'où le terme en $+x_2x_1\\delta$. \n",
    "\n",
    "\n",
    "On constate bien que si le processus de natalité est plus fort que le processus de mortalité, alors la population augmente, car $\\dot{x_1} > 0$, et sinon, la population diminue ce qui se traduit bien par $\\dot{x_1} < 0$. \n",
    "\n",
    "Les points d'équilibres vérifient :\n",
    "$$\n",
    "\\left\\{\\begin{matrix}\n",
    " \\dot{x_1} = 0\\\\ \n",
    " \\dot{x_2} = 0\n",
    "\\end{matrix}\\right.\n",
    "\\Leftrightarrow\n",
    "\\left\\{\\begin{matrix}\n",
    " x_1(\\alpha - \\beta x_2) = 0 & (1)\\\\ \n",
    "-x_2(\\gamma - \\delta x_1) = 0 & (2)\n",
    "\\end{matrix}\\right.\n",
    "$$\n",
    "On voit déjà que le système est vérifié pour le point (0,0). \n",
    "\n",
    "On multiplie par $\\delta$ la première équation et la deuxième par $\\beta$ puis on additionne :\n",
    "Pour avoir $(x_1,x_2)$ non nul vérifiant le système non linéaire, on doit nécessairement avoir \n",
    "$$\n",
    "\\left\\{\\begin{matrix}\n",
    "\\alpha - \\beta x_2 = 0 & \\Rightarrow x_2 = \\alpha / \\beta \\\\\n",
    "\\gamma - \\delta x_1 = 0 & \\Rightarrow x_1 = \\gamma / \\delta\n",
    "\\end{matrix}\\right.\n",
    "$$\n",
    "Le point d'équilibre $(\\gamma / \\delta , \\alpha /\\beta )$ est bien dans $\\mathbb{R}^{*}_{+} \\times \\mathbb{R}^{*}_{+}$. \n",
    "\n",
    "Voyons voir si les points sont localement asymptotiquement stable. Calculons la différentielle de f définie par :\n",
    "$$\n",
    "f(x_1, x_2)= \\bigl(\\begin{smallmatrix}\n",
    "x_1(\\alpha - \\beta x_2)\\\\ \n",
    "-x_2(\\gamma - \\delta x_1)\n",
    "\\end{smallmatrix}\\bigr)\n",
    "\\rightarrow\n",
    "J_f(x_1, x_2)= \\bigl(\\begin{smallmatrix}\n",
    "\\alpha - \\beta x_2 & -\\beta x_1\\\\ \n",
    "\\delta x_2 & -\\gamma + \\delta x_1\n",
    "\\end{smallmatrix}\\bigr)\n",
    "$$\n",
    "Evaluons la Jacobienne de f en $(0,0)$ et $(\\gamma / \\delta , \\alpha /\\beta )$ :\n",
    "$$\n",
    "J_f(0, 0)= J_1 = \\bigl(\\begin{smallmatrix}\n",
    "\\alpha & 0\\\\ \n",
    "0 & -\\gamma \n",
    "\\end{smallmatrix}\\bigr)\n",
    "\\;\\; et \\; \\;  \n",
    "J_f(\\gamma / \\delta , \\alpha /\\beta )= J_2 =  \\bigl(\\begin{smallmatrix}\n",
    "0 & -\\beta \\gamma / \\delta\\\\ \n",
    "\\delta \\alpha / \\beta & 0\n",
    "\\end{smallmatrix}\\bigr)\n",
    "$$\n",
    "On utilise le fait qu'en dimension 2, on a l'équivalence suivante : $J \\; est \\; Hurwitz \\Leftrightarrow tr(J) <0 \\; et \\; det(J)>0 \\;$.\n",
    "\n",
    "On constate que $J_1$ n'est pas Hurwitz car $\\; det(J_1)=-\\alpha \\gamma <0 \\;$ et $J_2$ non plus puisque $\\; tr(J_2)=0 \\;$. Ainsi, les deux points d'équilibres sont instables."
   ],
   "cell_type": "markdown",
   "metadata": {}
  }
 ]
}